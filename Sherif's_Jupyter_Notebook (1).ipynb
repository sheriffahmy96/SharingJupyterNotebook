{
  "metadata": {
    "kernelspec": {
      "name": "python",
      "display_name": "Pyolite",
      "language": "python"
    },
    "language_info": {
      "codemirror_mode": {
        "name": "python",
        "version": 3
      },
      "file_extension": ".py",
      "mimetype": "text/x-python",
      "name": "python",
      "nbconvert_exporter": "python",
      "pygments_lexer": "ipython3",
      "version": "3.8"
    }
  },
  "nbformat_minor": 4,
  "nbformat": 4,
  "cells": [
    {
      "cell_type": "markdown",
      "source": "<center>\n    <img src=\"https://s3-api.us-geo.objectstorage.softlayer.net/cf-courses-data/CognitiveClass/Logos/organization_logo/organization_logo.png\" width=\"300\" alt=\"cognitiveclass.ai logo\"  />\n</center>\n",
      "metadata": {}
    },
    {
      "cell_type": "markdown",
      "source": "# My Jupyter Notebook on IBM Watson Studio",
      "metadata": {}
    },
    {
      "cell_type": "markdown",
      "source": "**Name: Sherif Fahmy**  \nCurrent Occupation: Quality Engineer",
      "metadata": {}
    },
    {
      "cell_type": "markdown",
      "source": "*I am interested in data science because it can teach you how machines learn. If you can teach yourself how other mechanisms (machines) work to learn, you can teach yourself to learn anything.*",
      "metadata": {}
    },
    {
      "cell_type": "markdown",
      "source": "### The following cell displays some basic code output:",
      "metadata": {}
    },
    {
      "cell_type": "code",
      "source": "1+1",
      "metadata": {
        "trusted": true
      },
      "execution_count": 12,
      "outputs": [
        {
          "execution_count": 12,
          "output_type": "execute_result",
          "data": {
            "text/plain": "2"
          },
          "metadata": {}
        }
      ]
    },
    {
      "cell_type": "markdown",
      "source": "This lab concludes what I learned from Jupyter Notebook. I will continue to use the [markdown cheat sheet](https://github.com/adam-p/markdown-here/wiki/Markdown-Cheatsheet#lists) to learn how to display better information on Jupyter Notebook. A few things I learned from Jupyter Notebook were:\n\n                                                                                                           1. How to use markdown.  \n                                                                                                           2. How to execute basic code.  \n                                                                                                           3. How to upload & share my work on GitHub.  \n                                                                                                           4. How to upload & share my work on IBM Watson Studio.  \n                                                                                                           5. How to upload & share my work on social media.  \n---",
      "metadata": {}
    }
  ]
}